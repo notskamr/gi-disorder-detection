{
 "cells": [
  {
   "cell_type": "code",
   "execution_count": null,
   "id": "0e90e233-2ff1-4333-8b03-5e5d5e748831",
   "metadata": {},
   "outputs": [],
   "source": [
    "import os\n",
    "import cv2\n",
    "import numpy as np\n",
    "import pandas as pd\n",
    "from sklearn.model_selection import train_test_split\n",
    "import matplotlib.pyplot as plt\n",
    "from sklearn.decomposition import PCA\n",
    "from lazypredict.Supervised import LazyClassifier"
   ]
  },
  {
   "cell_type": "code",
   "execution_count": 82,
   "id": "5f4534ae-fdf4-4cee-acc4-86d524675355",
   "metadata": {},
   "outputs": [],
   "source": [
    "DATA_DIR = \"data_dir\""
   ]
  },
  {
   "cell_type": "code",
   "execution_count": 83,
   "id": "db8fefbc-8a4a-4d62-a5f2-d7982dab193e",
   "metadata": {},
   "outputs": [],
   "source": [
    "IMG_SIZE = 224"
   ]
  },
  {
   "cell_type": "code",
   "execution_count": 84,
   "id": "5968e7b8-f634-4fd1-a3fd-f779c36c6162",
   "metadata": {},
   "outputs": [],
   "source": [
    "path_label = []\n",
    "for dirname, _, filenames in os.walk(DATA_DIR):\n",
    "    for filename in filenames:\n",
    "        if filename[-4:] == '.jpg':\n",
    "            path = os.path.join(dirname, filename)\n",
    "            label = dirname.split('/')[-1]\n",
    "            path_label += [(path, label)] "
   ]
  },
  {
   "cell_type": "code",
   "execution_count": 85,
   "id": "19ff2851-bfe2-4e73-a7a2-4eba4a2eb2ab",
   "metadata": {},
   "outputs": [],
   "source": [
    "data=pd.DataFrame(columns=['path','label'])\n",
    "data['path']=np.array(path_label)[:,0]\n",
    "data['label']=np.array(path_label)[:,1]\n",
    "data = data[data['label'] != '.ipynb_checkpoints']"
   ]
  },
  {
   "cell_type": "code",
   "execution_count": null,
   "id": "2447c1ec-7a1f-46b0-90a6-b27ea9cd8d49",
   "metadata": {},
   "outputs": [],
   "source": [
    "display(data)"
   ]
  },
  {
   "cell_type": "code",
   "execution_count": null,
   "id": "16774a0d-21b9-4916-bf21-3ae2a743ca85",
   "metadata": {},
   "outputs": [],
   "source": [
    "names=[x for x in sorted(os.listdir(DATA_DIR)) if x != '.DS_Store']\n",
    "N=list(range(len(names)))\n",
    "normal_mapping=dict(zip(names,N)) \n",
    "reverse_mapping=dict(zip(N,names))       \n",
    "data['label'] = data['label'].replace(normal_mapping)\n",
    "paths=data['path'].tolist()\n",
    "normal_mapping"
   ]
  },
  {
   "cell_type": "code",
   "execution_count": 88,
   "id": "c420fdaf-f5eb-423a-9ada-142e9bd16030",
   "metadata": {},
   "outputs": [],
   "source": [
    "image_list = []\n",
    "\n",
    "RESIZE=False\n",
    "\n",
    "for i,path in enumerate(paths):\n",
    "    img = plt.imread(path)\n",
    "    img = cv2.resize(img,(IMG_SIZE,IMG_SIZE))\n",
    "    if img.shape == (IMG_SIZE,IMG_SIZE,3) or RESIZE == False:\n",
    "        img_array = img.flatten()\n",
    "        image_list.append(img_array)\n",
    "    elif img.shape == (IMG_SIZE,IMG_SIZE,4):\n",
    "        img_array = img[:,:,0:3].flatten()\n",
    "        image_list.append(img_array)\n",
    "    else:\n",
    "        print(i,img.shape)\n",
    "        data=data.drop(index=[i],axis=0)\n",
    "\n",
    "image_data = np.array(image_list)"
   ]
  },
  {
   "cell_type": "code",
   "execution_count": null,
   "id": "982e3208-d267-448c-976c-b463e812a9d6",
   "metadata": {},
   "outputs": [],
   "source": [
    "y = data.pop('label')\n",
    "\n",
    "pca = PCA(n_components=16)\n",
    "image_data_pca = pca.fit_transform(image_data)\n",
    "X_reduced_df = pd.DataFrame(image_data_pca)\n",
    "\n",
    "display(X_reduced_df)\n",
    "print(X_reduced_df.shape)\n",
    "X = X_reduced_df"
   ]
  },
  {
   "cell_type": "code",
   "execution_count": 90,
   "id": "880baccb-75e9-45aa-8dcf-32a72502835f",
   "metadata": {},
   "outputs": [],
   "source": [
    "X_train, X_test, y_train, y_test = train_test_split( X, y, test_size=0.2, random_state=42, shuffle=True, stratify=y)"
   ]
  },
  {
   "cell_type": "code",
   "execution_count": null,
   "id": "c313923c-53a3-4810-b490-0c16e5833566",
   "metadata": {},
   "outputs": [],
   "source": [
    "print(len(X_train))\n",
    "print(len(X_test))"
   ]
  },
  {
   "cell_type": "code",
   "execution_count": null,
   "id": "96a8e2c1-3463-46f9-8ebf-9c561179da99",
   "metadata": {},
   "outputs": [],
   "source": [
    "clf = LazyClassifier(verbose=0,predictions=True)\n",
    "models,predictions = clf.fit(X_train, X_test, y_train, y_test)"
   ]
  },
  {
   "cell_type": "code",
   "execution_count": null,
   "id": "e00a000b-4ffb-4e37-a90a-a141649660ed",
   "metadata": {},
   "outputs": [],
   "source": [
    "predictions"
   ]
  },
  {
   "cell_type": "code",
   "execution_count": null,
   "id": "59e89e98-1cf5-4f17-a134-c171eb7c6b27",
   "metadata": {},
   "outputs": [],
   "source": [
    "models"
   ]
  }
 ],
 "metadata": {
  "kernelspec": {
   "display_name": "Python 3 (ipykernel)",
   "language": "python",
   "name": "python3"
  },
  "language_info": {
   "codemirror_mode": {
    "name": "ipython",
    "version": 3
   },
   "file_extension": ".py",
   "mimetype": "text/x-python",
   "name": "python",
   "nbconvert_exporter": "python",
   "pygments_lexer": "ipython3",
   "version": "3.11.5"
  }
 },
 "nbformat": 4,
 "nbformat_minor": 5
}
